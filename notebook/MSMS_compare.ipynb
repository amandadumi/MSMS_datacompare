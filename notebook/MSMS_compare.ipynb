{
 "cells": [
  {
   "cell_type": "markdown",
   "metadata": {},
   "source": [
    "## MSMS compare\n",
    "Authors: Amanda Dumi and Shiv Upadhyay\n",
    "\n",
    "[github](https://github.com/amandadumi/MSMS_datacompare)\n",
    "\n",
    "The following script is meant to compare MSMS data to known fragments. The required input are defined in the code block under the *Variable* header below. Once all data is correct, press the play button found above or shift+enter while your cursor is in the cell block. \n",
    "\n"
   ]
  },
  {
   "cell_type": "markdown",
   "metadata": {},
   "source": [
    "## Variables\n",
    "* `path_to_files` will be a the path that contains the files you want to analyze enclosed in quotation marks\n",
    "* `file_list` is a list of the files you want to analyze that are contained within the directory defined by `path_to_files`. The correct format is `file_list = ['file1','file2']`\n",
    "* `mass_accuracy` is the threshold that defines a match in Daltons (i think?)\n",
    "* `protein id` the protein id to be printed to the ouput file. If you do not want this, leave as the set of empty quotes.\n",
    "* `notes` any extra data you may need in the output. Must be defined within quotation marks. If you want the to be empty, leave defined as empty quotes\n",
    "* `outdir`: the directory in which the ouput is placed. By default, this is defined as the path defined as an MSMS_compare_output within the path_to_files directory. "
   ]
  },
  {
   "cell_type": "code",
   "execution_count": 1,
   "metadata": {},
   "outputs": [],
   "source": [
    "import MSMS_compare as ms\n",
    "\n",
    "path_to_files=r'/home/amanda/Documents/phd/git_repositories/MSMS_datacompare/tests/'\n",
    "\n",
    "file_list= ['TestMSMSlist.csv']\n",
    "\n",
    "mass_accuracy=1e-2\n",
    "\n",
    "protien_id = \"example protein id\"\n",
    "\n",
    "notes = \" example note\"\n",
    "\n",
    "out_dir = 'MSMS_compare_output'"
   ]
  },
  {
   "cell_type": "markdown",
   "metadata": {},
   "source": [
    "## Run Analysis"
   ]
  },
  {
   "cell_type": "code",
   "execution_count": 2,
   "metadata": {},
   "outputs": [
    {
     "name": "stdout",
     "output_type": "stream",
     "text": [
      "\n",
      "        MSMS data compare script\n",
      "        version: 2.0\n",
      "        authors: Amanda Dumi and Shiv Upadhyay\n",
      "        \n",
      "\n",
      "Required format of CSV file:\n",
      "        a) collected data in column 1\n",
      "        b) the masses to compare to in column 5\n",
      "        c) the identity of the ion in column 6\n",
      "        \n",
      "beginning analysis of TestMSMSlist.csv\n",
      "progress:     0 of  1900\n",
      "progress:    50 of  1900\n",
      "progress:   100 of  1900\n",
      "progress:   150 of  1900\n",
      "progress:   200 of  1900\n",
      "progress:   250 of  1900\n",
      "progress:   300 of  1900\n",
      "progress:   350 of  1900\n",
      "progress:   400 of  1900\n",
      "progress:   450 of  1900\n",
      "progress:   500 of  1900\n",
      "progress:   550 of  1900\n",
      "progress:   600 of  1900\n",
      "progress:   650 of  1900\n",
      "progress:   700 of  1900\n",
      "progress:   750 of  1900\n",
      "progress:   800 of  1900\n",
      "progress:   850 of  1900\n",
      "progress:   900 of  1900\n",
      "progress:   950 of  1900\n",
      "progress:  1000 of  1900\n",
      "progress:  1050 of  1900\n",
      "progress:  1100 of  1900\n",
      "progress:  1150 of  1900\n",
      "progress:  1200 of  1900\n",
      "progress:  1250 of  1900\n",
      "progress:  1300 of  1900\n",
      "progress:  1350 of  1900\n",
      "progress:  1400 of  1900\n",
      "progress:  1450 of  1900\n",
      "progress:  1500 of  1900\n",
      "progress:  1550 of  1900\n",
      "progress:  1600 of  1900\n",
      "progress:  1650 of  1900\n",
      "progress:  1700 of  1900\n",
      "progress:  1750 of  1900\n",
      "progress:  1800 of  1900\n",
      "progress:  1850 of  1900\n",
      "MSMS_compare message: Analysis complete!\n",
      " Output has been written to /home/amanda/Documents/phd/git_repositories/MSMS_datacompare/tests//MSMS_compare_output. \n",
      " Have a great day!\n"
     ]
    }
   ],
   "source": [
    "data = ms.MSMS(file_list, mass_accuracy, path_to_files,\n",
    "               protien_id, notes, out_dir)\n",
    "data.analyze()"
   ]
  },
  {
   "cell_type": "code",
   "execution_count": null,
   "metadata": {},
   "outputs": [],
   "source": []
  }
 ],
 "metadata": {
  "kernelspec": {
   "display_name": "Python 3",
   "language": "python",
   "name": "python3"
  },
  "language_info": {
   "codemirror_mode": {
    "name": "ipython",
    "version": 3
   },
   "file_extension": ".py",
   "mimetype": "text/x-python",
   "name": "python",
   "nbconvert_exporter": "python",
   "pygments_lexer": "ipython3",
   "version": "3.6.5"
  },
  "toc": {
   "base_numbering": 1,
   "nav_menu": {},
   "number_sections": true,
   "sideBar": true,
   "skip_h1_title": false,
   "title_cell": "Table of Contents",
   "title_sidebar": "Contents",
   "toc_cell": false,
   "toc_position": {},
   "toc_section_display": true,
   "toc_window_display": false
  }
 },
 "nbformat": 4,
 "nbformat_minor": 2
}
