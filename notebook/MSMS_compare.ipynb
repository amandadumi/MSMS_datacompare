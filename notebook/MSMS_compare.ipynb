{
 "cells": [
  {
   "cell_type": "markdown",
   "metadata": {},
   "source": [
    "## MSMS compare\n",
    "Authors: Amanda Dumi and Shiv Upadhyay\n",
    "\n",
    "[github](https://github.com/amandadumi/MSMS_datacompare)\n",
    "\n",
    "The following script is meant to compare MSMS data to known fragments. The required input are defined in the code block under the *Variable* header below. Once all data is correct, press the play button found above or shift+enter while your cursor is in the cell block. \n",
    "\n"
   ]
  },
  {
   "cell_type": "markdown",
   "metadata": {},
   "source": [
    "## Variables\n",
    "* `path_to_files` will be a the path that contains the files you want to analyze enclosed in quotation marks\n",
    "* `file_list` is a list of the files you want to analyze that are contained within the directory defined by `path_to_files`. The correct format is `file_list = ['file1','file2']`\n",
    "* `mass_accuracy` is the threshold that defines a match in Daltons (i think?)\n",
    "* `protein id` the protein id to be printed to the ouput file. If you do not want this, leave as the set of empty quotes.\n",
    "* `notes` any extra data you may need in the output. Must be defined within quotation marks. If you want the to be empty, leave defined as empty quotes\n",
    "* `outdir`: the directory in which the ouput is placed. By default, this is defined as the path defined as an MSMS_compare_output within the path_to_files directory. "
   ]
  },
  {
   "cell_type": "code",
   "execution_count": 1,
   "metadata": {},
   "outputs": [],
   "source": [
    "import MSMS_compare as ms\n",
    "\n",
    "path_to_files='/Users/dum7636/Documents/phd/git_directories/MSMS_datacompare/tests/'\n",
    "\n",
    "file_list= ['TestMSMSlist.csv','TestMSMSlist_copy.csv']\n",
    "\n",
    "mass_accuracy=1e-2\n",
    "\n",
    "protien_id = \"prot id bitch\"\n",
    "\n",
    "notes = \" notes bitch\"\n",
    "\n",
    "out_dir = 'MSMS_compare_output'"
   ]
  },
  {
   "cell_type": "markdown",
   "metadata": {},
   "source": [
    "## Run Analysis"
   ]
  },
  {
   "cell_type": "code",
   "execution_count": null,
   "metadata": {},
   "outputs": [],
   "source": [
    "data = ms.MSMS(file_list, mass_accuracy, path_to_files,\n",
    "               protien_id, notes, out_dir)\n",
    "data.analyze()"
   ]
  },
  {
   "cell_type": "code",
   "execution_count": null,
   "metadata": {},
   "outputs": [],
   "source": []
  }
 ],
 "metadata": {
  "kernelspec": {
   "display_name": "Python 3",
   "language": "python",
   "name": "python3"
  },
  "language_info": {
   "codemirror_mode": {
    "name": "ipython",
    "version": 3
   },
   "file_extension": ".py",
   "mimetype": "text/x-python",
   "name": "python",
   "nbconvert_exporter": "python",
   "pygments_lexer": "ipython3",
   "version": "3.6.6"
  }
 },
 "nbformat": 4,
 "nbformat_minor": 2
}
